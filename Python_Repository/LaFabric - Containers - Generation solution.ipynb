{
 "cells": [
  {
   "cell_type": "markdown",
   "metadata": {},
   "source": [
    "## Story"
   ]
  },
  {
   "cell_type": "markdown",
   "metadata": {},
   "source": [
    "#### Sur le port d’Amsterdam, Alex est responsable du remplissage des conteneurs. Il doit donc organiser le placement de boites de différentes dimensions dans des conteneurs. Pour se faire, Alex met à profit son expérience pour placer au mieux les différentes boites et minimiser le nombre total de conteneurs utilisés. Cette méthode n'étant pas optimale, Alex fait appel à CapGemini pour créer une application afin d'identifier et visualiser la solution optimale de rangement des conteneurs. Grace à l’application, Alex n’a plus qu’a renseigner les quantités et dimensions de chaque boite pour que l’algorithme lui propose l’arrangement utilisant le minimum de conteneurs. Il a également la possibilité de visualiser le chargement virtuel de chaque conteneur pour mieux appréhender le remplissage réel de ce dernier. "
   ]
  },
  {
   "cell_type": "code",
   "execution_count": 1,
   "metadata": {
    "ExecuteTime": {
     "end_time": "2019-12-06T10:07:34.566412Z",
     "start_time": "2019-12-06T10:07:30.315393Z"
    }
   },
   "outputs": [
    {
     "name": "stderr",
     "output_type": "stream",
     "text": [
      "/tmp/ipykernel_5613/3361066208.py:2: UserWarning: \n",
      "The dash_core_components package is deprecated. Please replace\n",
      "`import dash_core_components as dcc` with `from dash import dcc`\n",
      "  import dash_core_components as dcc\n",
      "/tmp/ipykernel_5613/3361066208.py:3: UserWarning: \n",
      "The dash_html_components package is deprecated. Please replace\n",
      "`import dash_html_components as html` with `from dash import html`\n",
      "  import dash_html_components as html\n"
     ]
    }
   ],
   "source": [
    "import dash\n",
    "import dash_core_components as dcc\n",
    "import dash_html_components as html\n",
    "from dash.dependencies import Input, Output, State\n",
    "\n",
    "import random\n",
    "\n",
    "import plotly\n",
    "import plotly.graph_objects as go"
   ]
  },
  {
   "cell_type": "markdown",
   "metadata": {},
   "source": [
    "## Algorithm"
   ]
  },
  {
   "cell_type": "markdown",
   "metadata": {},
   "source": [
    "#### Class of used object"
   ]
  },
  {
   "cell_type": "code",
   "execution_count": 2,
   "metadata": {
    "ExecuteTime": {
     "end_time": "2019-12-06T10:07:34.616024Z",
     "start_time": "2019-12-06T10:07:34.575351Z"
    },
    "code_folding": [
     0,
     31,
     43
    ]
   },
   "outputs": [],
   "source": [
    "class Box:\n",
    "    \n",
    "    def __init__(self, w, d, h):\n",
    "        self.dimensions = {'w':w, 'd':d, 'h':h}\n",
    "        self.v = w * d * h\n",
    "        self.position = {'x':0, 'y':0, 'z':0} #x ,y ,z   (width, depth, height)\n",
    "    \n",
    "    def get_w(self):\n",
    "        return self.dimensions.get('w')\n",
    "    \n",
    "    def get_d(self):\n",
    "        return self.dimensions.get('d')\n",
    "    \n",
    "    def get_h(self):\n",
    "        return self.dimensions.get('h')\n",
    "    \n",
    "    def get_dimensions_wdh(self):\n",
    "        return self.dimensions['w'], self.dimensions['d'], self.dimensions['h']\n",
    "    \n",
    "    def get_x(self):\n",
    "        return self.position.get('x')\n",
    "    \n",
    "    def get_y(self):\n",
    "        return self.position.get('y')\n",
    "    \n",
    "    def get_z(self):\n",
    "        return self.position.get('z')\n",
    "        \n",
    "    def __repr__(self):\n",
    "        return \"w:{}, d:{}, h:{} v:{}\".format(self.get_w(), self.get_d(), self.get_h(), self.v)\n",
    "    \n",
    "class Item(Box):\n",
    "    \n",
    "    def __init__(self, w, d, h, name = \"\"):\n",
    "        Box.__init__(self, w, d, h)\n",
    "        self.rotation = \"XYZ\"\n",
    "        self.name = name  \n",
    "    \n",
    "    def __repr__(self):\n",
    "        return \"{} w:{}, d:{}, h:{} v:{} rotation:{} position:{}\".format(self.name, self.get_w(),\\\n",
    "                                                                      self.get_d(), self.get_h(), self.v,\\\n",
    "                                                                      self.rotation, self.position )\n",
    "\n",
    "class Container(Box):\n",
    "    \n",
    "    def __init__(self, w, d, h):\n",
    "        Box.__init__(self, w, d, h)\n",
    "        self.v_fill = 0 \n",
    "        self.pivots = [{'x':0, 'y':0, 'z':0}] \n",
    "        self.items = []\n",
    "        self.items_names_already_checked = []\n",
    "        \n",
    "    def get_volume_empty(self):\n",
    "        return self.v - self.v_fill\n",
    "    \n",
    "    def __repr__(self):\n",
    "        return \"w:{}, d:{}, h:{} v:{} contains {} item(s) which fill {} % of volume\".format(self.get_w(), self.get_d(), self.get_h(), self.v, len(self.items), round(self.v_fill *100/self.v , 2))"
   ]
  },
  {
   "cell_type": "code",
   "execution_count": 3,
   "metadata": {
    "ExecuteTime": {
     "end_time": "2019-12-06T10:07:34.632886Z",
     "start_time": "2019-12-06T10:07:34.620486Z"
    }
   },
   "outputs": [],
   "source": [
    "rotations = {\"XYZ\": 'XYZ', \"YXZ\": 'YXZ',\n",
    "  \"ZYX\": 'ZYX', \"YZX\": 'YZX',\n",
    "  \"XZY\": 'XZY', \"ZXY\": 'ZXY'}"
   ]
  },
  {
   "cell_type": "markdown",
   "metadata": {},
   "source": [
    "#### Functions"
   ]
  },
  {
   "cell_type": "code",
   "execution_count": 4,
   "metadata": {
    "ExecuteTime": {
     "end_time": "2019-12-06T10:07:34.650744Z",
     "start_time": "2019-12-06T10:07:34.636359Z"
    },
    "code_folding": [
     0
    ]
   },
   "outputs": [],
   "source": [
    "def add_new_container(containers, width, depth, length):\n",
    "    \"\"\"Add a container with dimensions (width, depth, length) to list containers\n",
    "    \n",
    "    keyword arguments:\n",
    "    width -- the width of the container that you want add\n",
    "    depth -- the depth of the container that you want add\n",
    "    length -- the length of the container that you want add\n",
    "    \"\"\"\n",
    "    container = Container(width, depth, length)  #Container(12032, 2698, 2350)\n",
    "    containers.append(container)"
   ]
  },
  {
   "cell_type": "code",
   "execution_count": 5,
   "metadata": {
    "ExecuteTime": {
     "end_time": "2019-12-06T10:07:34.670585Z",
     "start_time": "2019-12-06T10:07:34.654214Z"
    },
    "code_folding": [
     0
    ]
   },
   "outputs": [],
   "source": [
    "def get_dimensions_item(item, rotation):\n",
    "    \"\"\"Get dimension of the item depending on his dimensions\n",
    "    \n",
    "    keyword arguments:\n",
    "    item -- instance of Item that you want dimension\n",
    "    rotation -- String meaning rotation\n",
    "    \"\"\"\n",
    "    if rotation == \"XYZ\":\n",
    "        return {\"w\": item.get_w(), \"d\": item.get_d(), \"h\": item.get_h()}\n",
    "    elif rotation == \"YXZ\":\n",
    "        return {\"w\": item.get_d(), \"d\": item.get_w(), \"h\": item.get_h()}\n",
    "    elif rotation == \"ZYX\":\n",
    "        return {\"w\": item.get_h(), \"d\": item.get_d(), \"h\": item.get_w()}\n",
    "    elif rotation == \"YZX\":\n",
    "        return {\"w\": item.get_d(), \"d\": item.get_h(), \"h\": item.get_w()}\n",
    "    elif rotation == \"XZY\":\n",
    "        return {\"w\": item.get_w(), \"d\": item.get_h(), \"h\": item.get_d()}\n",
    "    elif rotation == \"ZXY\":\n",
    "        return {\"w\": item.get_h(), \"d\": item.get_w(), \"h\": item.get_d()}\n",
    "    else:\n",
    "        return {\"w\": item.get_w(), \"d\": item.get_d(), \"h\": item.get_h()}"
   ]
  },
  {
   "cell_type": "markdown",
   "metadata": {},
   "source": [
    "#### Function to apply constraints"
   ]
  },
  {
   "cell_type": "code",
   "execution_count": 6,
   "metadata": {
    "ExecuteTime": {
     "end_time": "2019-12-06T10:07:34.693895Z",
     "start_time": "2019-12-06T10:07:34.679017Z"
    },
    "code_folding": [
     0,
     21
    ]
   },
   "outputs": [],
   "source": [
    "def is_overlap(item1, position_item1, rotation_item1, item2, position_item2, rotation_item2):\n",
    "    \"\"\"If 2 both items are sticked (share same coordinates to extremities), return False\n",
    "    Meaning its not considering  to an overlap\n",
    "    \n",
    "    keyword arguments:\n",
    "    item1, item2 -- instance of Item that you want to know if this is overlapped or not\n",
    "    position_item1, position_item2 -- Dictionnary that they have position (x,y,z)\n",
    "    rotation_item1, rotation_item2 -- String meaning rotation\n",
    "    \"\"\"\n",
    "    dimensions_item1 = get_dimensions_item(item1, rotation_item1)\n",
    "    dimensions_item2 = get_dimensions_item(item2, rotation_item2)\n",
    "    w1, d1, h1 = (dimensions_item1.get('w'), dimensions_item1.get('d'), dimensions_item1.get('h'))\n",
    "    w2, d2, h2 = (dimensions_item2.get('w'), dimensions_item2.get('d'), dimensions_item2.get('h'))\n",
    "    \n",
    "    x1, y1 ,z1 = (position_item1.get('x'), position_item1.get('y'), position_item1.get('z'))\n",
    "    x2, y2 ,z2 = (position_item2.get('x'), position_item2.get('y'), position_item2.get('z'))\n",
    "    \n",
    "    #Condition pour un non overlap ==> on retourne le contraire pour savoir si il y a un overlap :)\n",
    "    condition_non_overlap = (x1+w1 <= x2) or (x2+w2 <= x1) or (y1+d1 <= y2) or (y2+d2 <= y1) or (z1+h1 <= z2) or (z2+h2 <= z1)\n",
    "    return (not condition_non_overlap)\n",
    "\n",
    "def is_legit(item_to_check, position_item_to_check, rotation_item_to_check, item_to_deal_with, position_item_to_deal_with, rotation_item_to_deal_with):\n",
    "    \"\"\"If the item to check fits with the item to deal with return True. Otherwise return False.\n",
    "    If the item to check is not a problem for other items it's OK. For further, it's here we apply constraint \"\"\"\n",
    "    overlap_cond = is_overlap(item_to_check, position_item_to_check, rotation_item_to_check, item_to_deal_with, position_item_to_deal_with, rotation_item_to_deal_with)\n",
    "    \n",
    "    return overlap_cond"
   ]
  },
  {
   "cell_type": "code",
   "execution_count": 7,
   "metadata": {
    "ExecuteTime": {
     "end_time": "2019-12-06T10:07:34.716214Z",
     "start_time": "2019-12-06T10:07:34.697862Z"
    },
    "code_folding": [
     0
    ]
   },
   "outputs": [],
   "source": [
    "def put_item(container, item): #Vérification des contraintes\n",
    "    \"\"\"Return true if the item fit in the container\n",
    "    \n",
    "    keyword arguments:\n",
    "    container -- instance of Container that you want to put the item in\n",
    "    item -- instance of Item that you want put in the container\n",
    "    \"\"\"\n",
    "    global rotations\n",
    "    \n",
    "    for position in container.pivots:\n",
    "        for rotation_key in rotations:\n",
    "            dimensions_item_rotated = get_dimensions_item(item, rotation_key)\n",
    "\n",
    "            # Try until space is found\n",
    "            if container.get_w() < position['x'] + dimensions_item_rotated['w'] or \\\n",
    "                container.get_d() < position['y'] + dimensions_item_rotated['d'] or \\\n",
    "                container.get_h() < position['z'] + dimensions_item_rotated['h']: \n",
    "                continue\n",
    "\n",
    "            # Check if there are any intersections\n",
    "            intersects = any(list(map(lambda x : is_legit(item, position, rotation_key, x, x.position, x.rotation), container.items)))\n",
    "            \n",
    "            # If there are none, we can assign this bag to this container\n",
    "            if not intersects:\n",
    "                ##We set information to item\n",
    "                item.position = position   \n",
    "                item.rotation = rotations[rotation_key]\n",
    "                container.v_fill += item.v\n",
    "                \n",
    "                container.pivots.remove(position)  ##we remove that we just use\n",
    "                container.pivots.extend(get_pivots(item))\n",
    "                \n",
    "                #Bag is cloned to ensure correct data storage\n",
    "                container.pivots.sort(key=lambda pivot: (pivot['z'],pivot['x'],pivot['y']))\n",
    "                container.items.append(item)\n",
    "                return True\n",
    "\n",
    "    return False"
   ]
  },
  {
   "cell_type": "code",
   "execution_count": 8,
   "metadata": {
    "ExecuteTime": {
     "end_time": "2019-12-06T10:07:34.732086Z",
     "start_time": "2019-12-06T10:07:34.720678Z"
    },
    "code_folding": [
     0
    ]
   },
   "outputs": [],
   "source": [
    "def get_pivots(item):\n",
    "    \"\"\"Return pivots of the item that you give in parameter. Pivots are:\n",
    "        -Corner back down right\n",
    "        -Corner front down left\n",
    "        -Corner back upper left\n",
    "    \n",
    "    keyword arguments:\n",
    "    item -- instance of Item that you want pivots\n",
    "    \"\"\"\n",
    "# Try to find availble pivot point for each item\n",
    "    pivots = []\n",
    "    ##On va mettre les dimensions de l'objet rotationné dans les pivots\n",
    "    dim_item_rotation = get_dimensions_item(item, item.rotation)\n",
    "    w, d, h = dim_item_rotation.get(\"w\"), dim_item_rotation.get(\"d\"), dim_item_rotation.get(\"h\")\n",
    "    pivots.append({\"x\": item.get_x() + w, \"y\": item.get_y(), \"z\": item.get_z()})\n",
    "    pivots.append({\"x\": item.get_x(), \"y\": item.get_y() + d, \"z\": item.get_z()})\n",
    "    pivots.append({\"x\": item.get_x(), \"y\": item.get_y(), \"z\": item.get_z() + h})\n",
    "    return pivots"
   ]
  },
  {
   "cell_type": "markdown",
   "metadata": {},
   "source": [
    "##### Core functions"
   ]
  },
  {
   "cell_type": "code",
   "execution_count": 9,
   "metadata": {
    "ExecuteTime": {
     "end_time": "2019-12-06T10:07:34.765318Z",
     "start_time": "2019-12-06T10:07:34.739031Z"
    },
    "code_folding": []
   },
   "outputs": [],
   "source": [
    "def best_fit_3D(items_not_packed, container_wdh, containers_with_items = None):\n",
    "    \"\"\"Return a list of Container with dimensions container_wdh with items_not_packed inside.\n",
    "    Use 3D first fit decreasing algorithm. If containers_with_items the algorithm will not start from\n",
    "    scratch but it will use this list\n",
    "    \n",
    "    keyword arguments:\n",
    "    items_not_packed -- list of Item that you want pack\n",
    "    container_wdh -- tuple of dimension of the container that you want for the container (width, depth, height)\n",
    "    containers_with_items -- list of containers that already contains items\n",
    "    \"\"\"\n",
    "    \n",
    "    if containers_with_items is None:\n",
    "        containers = []\n",
    "        first_add_skip = False \n",
    "    else:\n",
    "        containers = containers_with_items\n",
    "        first_add_skip = True \n",
    "    \n",
    "    is_item_too_big = False\n",
    "    \n",
    "    ##Sort for decreasing :) \n",
    "    items_not_packed.sort(key = lambda item: item.v, reverse = True)\n",
    "    \n",
    "    while len(items_not_packed) != 0:   #Boucle do while a ==> do while useless 🙃\n",
    "        print(len(items_not_packed))\n",
    "        to_pack = items_not_packed\n",
    "        items_not_packed = [] ##Clear not packed\n",
    "        \n",
    "        #Will not add a box in the beginning if we put a list in parameter\n",
    "        if not first_add_skip:\n",
    "#             add_new_container(containers, 12032, 2698, 2350)\n",
    "            add_new_container(containers, container_wdh[0], container_wdh[1], container_wdh[2])\n",
    "    \n",
    "        first_add_skip = False\n",
    "        \n",
    "        axis = {\"x\":\"x\", \"y\":\"y\", \"z\":\"z\"}\n",
    "    \n",
    "        for num_box_to_pack in range(len(to_pack)):\n",
    "            current_item = to_pack[num_box_to_pack]\n",
    "            fitted = False\n",
    "            \n",
    "            #We try to fit the box for each container and pivot \n",
    "            ### Check si on a besoin de d'itérer sur tous. Pk pas prendre le container nouvellement créer ?🔨🔨🔨🔨🔨🔨\n",
    "            for container in containers:\n",
    "                \n",
    "                if current_item.v > container.v or max(current_item.get_dimensions_wdh()) > max(container.get_dimensions_wdh()):\n",
    "                    print(\"There is one item too big for this container 🙃\")\n",
    "                    is_item_too_big = True\n",
    "                    break\n",
    "            \n",
    "                ##If item was already check for this box, pass OR If the item is too big for the remaining space\n",
    "                if current_item.name in container.items_names_already_checked or container.get_volume_empty() < current_item.v:\n",
    "                    continue               \n",
    "                        \n",
    "                if put_item(container, current_item):  \n",
    "                    fitted = True\n",
    "                    \n",
    "                    #We flush list\n",
    "                    container.items_names_already_checked = []\n",
    "                    break\n",
    "                else:\n",
    "                    container.items_names_already_checked.append(current_item.name)\n",
    "            \n",
    "            if is_item_too_big:\n",
    "                break\n",
    "            \n",
    "            if not fitted:\n",
    "                items_not_packed.append(current_item)\n",
    "                \n",
    "    return containers     "
   ]
  },
  {
   "cell_type": "markdown",
   "metadata": {},
   "source": [
    "# Dash"
   ]
  },
  {
   "cell_type": "markdown",
   "metadata": {},
   "source": [
    "### Figure"
   ]
  },
  {
   "cell_type": "code",
   "execution_count": 10,
   "metadata": {
    "ExecuteTime": {
     "end_time": "2019-12-06T10:35:35.298659Z",
     "start_time": "2019-12-06T10:35:35.268892Z"
    },
    "code_folding": [
     0,
     22
    ]
   },
   "outputs": [],
   "source": [
    "def plot_cube_go(xyz, wdh, fig, opacity = 0.6):\n",
    "    \"\"\"Plot a cube with dimensions wdh at position xyz\n",
    "    \n",
    "    keyword arguments:\n",
    "    xyz -- Position that ou want plot the cube\n",
    "    wdh -- tuple of dimensions of the container that you want for the cube (width, depth, height)\n",
    "    fig -- go.Figure that you want plot in\n",
    "    opacity -- integer of the cube that you plot\"\"\"\n",
    "    fig.add_mesh3d(\n",
    "        # 8 vertices of a cube\n",
    "        x=[xyz[0], xyz[0], xyz[0]+wdh[0], xyz[0]+wdh[0], xyz[0], xyz[0], xyz[0]+wdh[0], xyz[0]+wdh[0]],\n",
    "        y=[xyz[1], xyz[1]+wdh[1], xyz[1]+wdh[1], xyz[1], xyz[1], xyz[1]+wdh[1], xyz[1]+wdh[1], xyz[1]],\n",
    "        z=[xyz[2], xyz[2], xyz[2], xyz[2], xyz[2]+wdh[2], xyz[2]+wdh[2], xyz[2]+wdh[2], xyz[2]+wdh[2]],\n",
    "        # Intensity of each vertex, which will be interpolated and color-coded\n",
    "        # i, j and k give the vertices of triangles\n",
    "        i = [7, 0, 0, 0, 4, 4, 6, 6, 4, 0, 3, 2],\n",
    "        j = [3, 4, 1, 2, 5, 6, 5, 2, 0, 1, 6, 3],\n",
    "        k = [0, 7, 2, 3, 6, 7, 1, 1, 5, 5, 7, 6],\n",
    "        opacity = opacity,\n",
    "        )\n",
    "    return fig\n",
    "\n",
    "def plot_containers_with_items_go(containers):\n",
    "    \"\"\"Plot containers and items inside. Return a list of go.Figure\n",
    "    \n",
    "    keyword arguments:\n",
    "    containers -- list of Container with items inside\n",
    "    \"\"\"\n",
    "    \n",
    "    figures = []\n",
    "    for i,container in enumerate(containers):\n",
    "        fig = go.Figure()\n",
    "        xyz_cont, wdh_cont= ((0, 0, 0), (container.get_w(), container.get_d(), container.get_h()))\n",
    "        plot_cube_go(xyz_cont, wdh_cont, fig, 0.2)\n",
    "        \n",
    "        container.items.sort(key = lambda item: (item.get_x(),item.get_z(),item.get_y()))\n",
    "        \n",
    "        for box in container.items:\n",
    "            dimensions_box = get_dimensions_item(box, box.rotation)\n",
    "            wdh = dimensions_box.get('w'), dimensions_box.get('d'), dimensions_box.get('h')\n",
    "            x = box.get_x()\n",
    "            y = box.get_y()\n",
    "            z = box.get_z()\n",
    "            xyz = (x,y,z)\n",
    "            plot_cube_go(xyz, wdh, fig, 1)\n",
    "            \n",
    "        figures.append(fig)\n",
    "    return figures\n"
   ]
  },
  {
   "cell_type": "markdown",
   "metadata": {},
   "source": [
    "### Function to Dash"
   ]
  },
  {
   "cell_type": "code",
   "execution_count": 11,
   "metadata": {
    "ExecuteTime": {
     "end_time": "2019-12-06T10:35:36.394326Z",
     "start_time": "2019-12-06T10:35:36.376966Z"
    },
    "code_folding": [
     0,
     13
    ]
   },
   "outputs": [],
   "source": [
    "def graphique_boites(figures):\n",
    "    \"\"\"Render figure with a layout which show the container number\n",
    "    \n",
    "    keyword arguments:\n",
    "    figures -- list of go.Figure\"\"\"\n",
    "    \n",
    "    graphiques = []\n",
    "    for i,figure in enumerate(figures): \n",
    "        graphiques.append(dcc.Graph(\n",
    "            id='graph{}'.format(i),\n",
    "            figure={'data': figure.data, 'layout': {'title': 'Container n°{}'.format(i+1)}}))\n",
    "    return graphiques\n",
    "\n",
    "def generate_table(number_items):\n",
    "    \"\"\"Generate html.Table with input for dimensions of boxes. There are number_items rows in the Table\n",
    "    \n",
    "    keyword arguments:\n",
    "    number_items -- integer which is the number of type of item\"\"\"\n",
    "    \n",
    "    header = [\"\",\"Width of box\", \"Depth of box\", \"Height of box\", \"Number of this box\"]\n",
    "    id_tags = [\"\", \"width\", \"depth\", \"height\", \"number_item\"]\n",
    "\n",
    "    header_table = [html.Tr([html.Th(col) for col in header])]\n",
    "    \n",
    "    content_table = []\n",
    "    for i in range(number_items):\n",
    "        ligne = []\n",
    "        for j, col in enumerate(header):\n",
    "            if j == 0:\n",
    "                ligne.append(html.Td(children = \"Box n°{}\".format(i+1)))\n",
    "            elif j == len(header)-1: ## For max type of box we take 40 in order to not have a lot of box, it's a demo\n",
    "                ligne.append(html.Td(children = dcc.Input(id=\"{}{}\".format(id_tags[j],i), value=random.randint(10,20),\\\n",
    "                                                          type='number', min = 0, max = 40)))\n",
    "            else:\n",
    "                ligne.append(html.Td(children = dcc.Input(id=\"{}{}\".format(id_tags[j],i), value=random.randint(10,20), \\\n",
    "                                                          type='number', min = 1, max = 30)))\n",
    "        content_table.append(html.Tr(ligne))\n",
    "    \n",
    "    return html.Table(header_table + content_table)"
   ]
  },
  {
   "cell_type": "markdown",
   "metadata": {},
   "source": [
    "# Dash page"
   ]
  },
  {
   "cell_type": "code",
   "execution_count": 12,
   "metadata": {
    "ExecuteTime": {
     "end_time": "2019-12-06T17:07:21.549307Z",
     "start_time": "2019-12-06T10:35:36.667937Z"
    }
   },
   "outputs": [
    {
     "data": {
      "text/html": [
       "\n",
       "        <iframe\n",
       "            width=\"100%\"\n",
       "            height=\"650\"\n",
       "            src=\"http://127.0.0.1:8881/\"\n",
       "            frameborder=\"0\"\n",
       "            allowfullscreen\n",
       "            \n",
       "        ></iframe>\n",
       "        "
      ],
      "text/plain": [
       "<IPython.lib.display.IFrame at 0x7f5c3ff3dff0>"
      ]
     },
     "metadata": {},
     "output_type": "display_data"
    },
    {
     "name": "stdout",
     "output_type": "stream",
     "text": [
      "47\n",
      "35\n",
      "22\n",
      "9\n"
     ]
    }
   ],
   "source": [
    "external_stylesheets = ['https://codepen.io/chriddyp/pen/bWLwgP.css']\n",
    "\n",
    "app = dash.Dash(__name__, external_stylesheets=external_stylesheets)\n",
    "\n",
    "app.layout = html.Div(children=[\n",
    "    html.H4(children='Container Loading Problem 📦📦', style = {\"textAlign\":\"center\"}),\n",
    "    html.Div(children = [html.P(\"Here you can insert the features of 4 different types of boxes. These boxes will be sorted in order to fit into containers of 40x40x40.\"),\n",
    "                        html.P(\"The dimensions (width, depth and height) of each type of box must be included between 1 and 30.\\\n",
    "                               The maximum number of boxes for each type is limited to 40.\")]),\n",
    "    generate_table(4),\n",
    "    html.Button(id = 'submit-button-graphs', n_clicks=0, children='Submit'),\n",
    "    html.Div(id = 'my-div-graphs')\n",
    "])\n",
    "\n",
    "\n",
    "@app.callback(Output('my-div-graphs', 'children'),\n",
    "              [Input('submit-button-graphs', 'n_clicks')],\n",
    "              [State(\"width0\", \"value\"), State(\"depth0\", \"value\"), State(\"height0\", \"value\"), State(\"number_item0\", \"value\"),\\\n",
    "              State(\"width1\", \"value\"), State(\"depth1\", \"value\"), State(\"height1\", \"value\"), State(\"number_item1\", \"value\"),\\\n",
    "              State(\"width2\", \"value\"), State(\"depth2\", \"value\"), State(\"height2\", \"value\"), State(\"number_item2\", \"value\"),\\\n",
    "              State(\"width3\", \"value\"), State(\"depth3\", \"value\"), State(\"height3\", \"value\"), State(\"number_item3\", \"value\")])\n",
    "def create_graphs(n_cliks, width0, depth0, height0, n_item0, width1, depth1, height1, n_item1,\\\n",
    "                 width2, depth2, height2, n_item2, width3, depth3, height3, n_item3):\n",
    "    \"\"\"Create the graphs corresponding to the differents boxes that you want to put in containers of (40,40,40)\"\"\"\n",
    "    \n",
    "    if n_cliks >=1:\n",
    "        items_inseres = []\n",
    "        for i in range(int(float(n_item0))):\n",
    "            items_inseres.append(Item(width0, depth0, height0, \"item_0\"))\n",
    "        for i in range(int(float(n_item1))):\n",
    "            items_inseres.append(Item(width1, depth1, height1, \"item_1\"))\n",
    "        for i in range(int(float(n_item2))):\n",
    "            items_inseres.append(Item(width2, depth2, height2, \"item_2\"))\n",
    "        for i in range(int(float(n_item3))):\n",
    "            items_inseres.append(Item(width3, depth3, height3, \"item_3\"))\n",
    "        containers_to_draw = []\n",
    "        containers_to_draw = best_fit_3D(items_inseres, (40, 40, 40))\n",
    "        figures = plot_containers_with_items_go(containers_to_draw)\n",
    "        \n",
    "        return graphique_boites(figures)\n",
    "         \n",
    "        \n",
    "        \n",
    "\n",
    "    \n",
    "\n",
    "\n",
    "app.run_server(host='127.0.0.1', port=8881, debug=True)"
   ]
  },
  {
   "cell_type": "code",
   "execution_count": 16,
   "metadata": {
    "ExecuteTime": {
     "end_time": "2019-12-06T17:07:21.592461Z",
     "start_time": "2019-12-06T17:07:21.576092Z"
    }
   },
   "outputs": [],
   "source": []
  },
  {
   "cell_type": "code",
   "execution_count": null,
   "metadata": {
    "ExecuteTime": {
     "end_time": "2019-12-06T10:18:42.047654Z",
     "start_time": "2019-12-06T10:18:42.030254Z"
    }
   },
   "outputs": [
    {
     "name": "stdout",
     "output_type": "stream",
     "text": [
      "61\n",
      "49\n",
      "37\n",
      "25\n",
      "8\n"
     ]
    }
   ],
   "source": []
  },
  {
   "cell_type": "code",
   "execution_count": null,
   "metadata": {},
   "outputs": [],
   "source": []
  }
 ],
 "metadata": {
  "kernelspec": {
   "display_name": "Python 3 (ipykernel)",
   "language": "python",
   "name": "python3"
  },
  "language_info": {
   "codemirror_mode": {
    "name": "ipython",
    "version": 3
   },
   "file_extension": ".py",
   "mimetype": "text/x-python",
   "name": "python",
   "nbconvert_exporter": "python",
   "pygments_lexer": "ipython3",
   "version": "3.10.12"
  }
 },
 "nbformat": 4,
 "nbformat_minor": 2
}
