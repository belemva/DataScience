{
 "cells": [
  {
   "cell_type": "code",
   "execution_count": 1,
   "metadata": {
    "ExecuteTime": {
     "end_time": "2020-01-20T08:39:03.638292Z",
     "start_time": "2020-01-20T08:38:58.495467Z"
    }
   },
   "outputs": [
    {
     "name": "stderr",
     "output_type": "stream",
     "text": [
      "/tmp/ipykernel_5598/2137001591.py:4: UserWarning: \n",
      "The dash_core_components package is deprecated. Please replace\n",
      "`import dash_core_components as dcc` with `from dash import dcc`\n",
      "  import dash_core_components as dcc\n",
      "/tmp/ipykernel_5598/2137001591.py:5: UserWarning: \n",
      "The dash_html_components package is deprecated. Please replace\n",
      "`import dash_html_components as html` with `from dash import html`\n",
      "  import dash_html_components as html\n"
     ]
    }
   ],
   "source": [
    "import pickle\n",
    "\n",
    "import dash\n",
    "import dash_core_components as dcc\n",
    "import dash_html_components as html\n",
    "from dash.dependencies import Input, Output, State\n",
    "\n",
    "import plotly.graph_objects as go"
   ]
  },
  {
   "cell_type": "markdown",
   "metadata": {},
   "source": [
    "#### Loading containers"
   ]
  },
  {
   "cell_type": "code",
   "execution_count": 5,
   "metadata": {
    "ExecuteTime": {
     "end_time": "2020-01-20T08:39:13.101072Z",
     "start_time": "2020-01-20T08:39:03.661132Z"
    }
   },
   "outputs": [],
   "source": [
    "with open('/mnt/c/Users/tahat/Downloads/PSA_boxpacking/Python_Repository/Data_for_study/containers_LaFabric.pickle', 'rb') as f:\n",
    "    figures_prefaites = pickle.load(f)"
   ]
  },
  {
   "cell_type": "code",
   "execution_count": 6,
   "metadata": {
    "ExecuteTime": {
     "end_time": "2020-01-20T08:39:13.203798Z",
     "start_time": "2020-01-20T08:39:13.104066Z"
    },
    "code_folding": [
     0
    ]
   },
   "outputs": [],
   "source": [
    "def generate_interface_container(indice_container):\n",
    "    \"\"\"Generate interface of container correspond to indice\n",
    "    \n",
    "    keyword arguments:\n",
    "    indice_container -- integer corresponding to the cardinal number of your container\"\"\"\n",
    "    interface = html.Div(children = [\n",
    "            html.Div(id = \"div-value-diff-button{}\".format(indice_container), children = 0, style = {\"display\":\"none\"}),\n",
    "            dcc.Store(id = \"value-number-box{}\".format(indice_container)),\n",
    "\n",
    "            html.Div(id = \"div-backward{}\".format(indice_container), style = {\"display\":\"inline\"}, children =\\\n",
    "                html.Button(id='submit-button-animation-backward{}'.format(indice_container), n_clicks = 0, children = 'Boite précédente ⬅️')),\n",
    "            html.Div(id = \"div-forward{}\".format(indice_container), style = {\"display\":\"inline\"}, children = \\\n",
    "                html.Button(id='submit-button-animation-forward{}'.format(indice_container), n_clicks = 0, children='Boite suivante ➡️')),\n",
    "            html.Div(id = \"div-animation-button{}\".format(indice_container), style = {\"display\":\"inline\"}, children = \\\n",
    "                html.Button(id='submit-button-animation-continue{}'.format(indice_container), n_clicks = 0, children='Animation 🎞️')),\n",
    "            html.Div(id = \"div-reset-button{}\".format(indice_container), style = {\"display\":\"inline\"}, children = \\\n",
    "                html.Button(id='submit-button-reset{}'.format(indice_container), n_clicks = 0, children='Empty the container ❌')),\n",
    "            html.Div(id = \"div-fill-in-button{}\".format(indice_container), style = {\"display\":\"inline\"}, children = \\\n",
    "                html.Button(id='submit-button-fill-in{}'.format(indice_container), n_clicks = 0, children='Fill in the container ✔️'))])\n",
    "    return interface"
   ]
  },
  {
   "cell_type": "code",
   "execution_count": 7,
   "metadata": {
    "ExecuteTime": {
     "end_time": "2020-01-20T09:03:26.985614Z",
     "start_time": "2020-01-20T08:39:13.210779Z"
    },
    "code_folding": [
     105
    ]
   },
   "outputs": [
    {
     "data": {
      "text/html": [
       "\n",
       "        <iframe\n",
       "            width=\"100%\"\n",
       "            height=\"650\"\n",
       "            src=\"http://127.0.0.1:8880/\"\n",
       "            frameborder=\"0\"\n",
       "            allowfullscreen\n",
       "            \n",
       "        ></iframe>\n",
       "        "
      ],
      "text/plain": [
       "<IPython.lib.display.IFrame at 0x7f29a98df1c0>"
      ]
     },
     "metadata": {},
     "output_type": "display_data"
    }
   ],
   "source": [
    "external_stylesheets = ['https://codepen.io/chriddyp/pen/bWLwgP.css']\n",
    "\n",
    "app = dash.Dash(__name__, external_stylesheets=external_stylesheets)\n",
    "\n",
    "app.layout = html.Div(children=[\n",
    "    html.H4(children='Container Loading Problem 📦📦 - Container observation', style = {\"textAlign\":\"center\"}),\n",
    "    \n",
    "    ###Container 1 \n",
    "    generate_interface_container(0),\n",
    "    html.Div(id = \"div-animation-interval0\", style = {\"display\": \"none\", \"visibility\": \"hidden\"}, children =\n",
    "            dcc.Interval(id = 'interval-component0', n_intervals = 0, max_intervals = 0)),\n",
    "   \n",
    "    dcc.Graph(id ='graph0', figure =  go.Figure(figures_prefaites[0])),\n",
    "              \n",
    "    ###Container 2 \n",
    "    generate_interface_container(1),\n",
    "    html.Div(id = \"div-animation-interval1\", style = {\"display\": \"none\", \"visibility\": \"hidden\"}, children =\n",
    "            dcc.Interval(id = 'interval-component1', n_intervals = 0, max_intervals = 0)),\n",
    "   \n",
    "    dcc.Graph(id ='graph1', figure =  go.Figure(figures_prefaites[1])),\n",
    "\n",
    "    ])\n",
    "\n",
    "    \n",
    "GLOBAL_VARS = {}\n",
    "GLOBAL_VARS['ANIMATION_STATE_ENUM'] = {\"STOP\": \"STOP\", \"ANIMATE\": \"ANIMATE\"}\n",
    "\n",
    "GLOBAL_VARS['NB_BOXES_N0'] = len(figures_prefaites[0].data) - 1\n",
    "GLOBAL_VARS['ANIMATION_STATE_N0'] = GLOBAL_VARS['ANIMATION_STATE_ENUM'][\"STOP\"]\n",
    "\n",
    "GLOBAL_VARS['NB_BOXES_N1'] = len(figures_prefaites[1].data) - 1\n",
    "GLOBAL_VARS['ANIMATION_STATE_N1'] = GLOBAL_VARS['ANIMATION_STATE_ENUM'][\"STOP\"]\n",
    "\n",
    "\n",
    "functions = []\n",
    "for indice in range(2):\n",
    "\n",
    "    @app.callback(Output('value-number-box{}'.format(indice), 'data'),\n",
    "                  [Input('submit-button-animation-backward{}'.format(indice), 'n_clicks'),\n",
    "                    Input('submit-button-animation-forward{}'.format(indice), 'n_clicks'), Input('submit-button-reset{}'.format(indice), 'n_clicks'),\n",
    "                    Input('submit-button-fill-in{}'.format(indice), 'n_clicks')], [State(\"value-number-box{}\".format(indice), 'data')])\n",
    "    def calculate_diff(n_clicks_backward, n_clicks_forward, n_clicks_reset, n_clicks_fill_in, data_nb_boxes, indice=indice):\n",
    "        \"\"\"Make the button previous box, next box, empty container and fill in container work.\n",
    "        change the animation_state to STOP of the corresponding figure if its called\"\"\"\n",
    "        \n",
    "#         print(\"Container {}\".format(indice))\n",
    "        global GLOBAL_VARS\n",
    "        nb_boxes_dic = data_nb_boxes or {\"boxes_display\" : 0}\n",
    "\n",
    "        if n_clicks_backward >= 1 or n_clicks_forward >= 1 or n_clicks_reset >= 1:\n",
    "            GLOBAL_VARS['ANIMATION_STATE_N{}'.format(indice)] = GLOBAL_VARS['ANIMATION_STATE_ENUM'][\"STOP\"]\n",
    "\n",
    "            ## Remove a box\n",
    "            if dash.callback_context.triggered[0]['prop_id'] == 'submit-button-animation-backward{}.n_clicks'.format(indice):\n",
    "                ## if we are not at 0 we remove a box\n",
    "                if GLOBAL_VARS['NB_BOXES_N{}'.format(indice)] - 1 >= 0:\n",
    "                    GLOBAL_VARS['NB_BOXES_N{}'.format(indice)] -= 1\n",
    "\n",
    "            ## add a box\n",
    "            if dash.callback_context.triggered[0]['prop_id'] == 'submit-button-animation-forward{}.n_clicks'.format(indice):\n",
    "                ## if we are not full we add a box\n",
    "                if GLOBAL_VARS['NB_BOXES_N{}'.format(indice)] + 1 <= len(figures_prefaites[indice].data) - 1:\n",
    "                    GLOBAL_VARS['NB_BOXES_N{}'.format(indice)] += 1\n",
    "\n",
    "            ## Reset the container\n",
    "            if dash.callback_context.triggered[0]['prop_id'] == 'submit-button-reset{}.n_clicks'.format(indice):\n",
    "#                 if we are not full we add a box\n",
    "                GLOBAL_VARS['NB_BOXES_N{}'.format(indice)] = 0\n",
    "\n",
    "            ## Fill in the container\n",
    "            if dash.callback_context.triggered[0]['prop_id'] == 'submit-button-fill-in{}.n_clicks'.format(indice):\n",
    "                ## if we are not full we add a box\n",
    "                GLOBAL_VARS['NB_BOXES_N{}'.format(indice)] = len(figures_prefaites[indice].data) - 1\n",
    "\n",
    "        nb_boxes_dic[\"boxes_display\"] = GLOBAL_VARS['NB_BOXES_N{}'.format(indice)]\n",
    "        return nb_boxes_dic\n",
    "    \n",
    "    functions.append(calculate_diff)\n",
    "    \n",
    "     \n",
    "    @app.callback([Output(\"graph{}\".format(indice), 'figure'), Output('interval-component{}'.format(indice), 'disabled')],\n",
    "                  [Input(\"value-number-box{}\".format(indice), 'data'), Input('interval-component{}'.format(indice), 'n_intervals')])\n",
    "    def animate_graphs(data, n_intervals,  indice=indice):\n",
    "        \"\"\"Get number of boxes that you want display and display it. Stop the animation if calculate_diff is called before\"\"\"\n",
    "\n",
    "        global GLOBAL_VARS  \n",
    "        is_interval_disabled = False\n",
    "\n",
    "        ##To know if it's trigger by animation button or not\n",
    "        if GLOBAL_VARS['ANIMATION_STATE_N{}'.format(indice)] == GLOBAL_VARS['ANIMATION_STATE_ENUM'][\"ANIMATE\"]:\n",
    "            if dash.callback_context.triggered[0]['prop_id'] == 'interval-component{}.n_intervals'.format(indice):\n",
    "                if n_intervals > 0:\n",
    "                    print(GLOBAL_VARS)\n",
    "                    GLOBAL_VARS['NB_BOXES_N{}'.format(indice)] = n_intervals\n",
    "        else:\n",
    "            is_interval_disabled = True\n",
    "                            \n",
    "        return go.Figure(figures_prefaites[indice].data[:GLOBAL_VARS['NB_BOXES_N{}'.format(indice)] + 1]),is_interval_disabled\n",
    "\n",
    "    functions.append(animate_graphs)\n",
    "\n",
    "    \n",
    "\n",
    "    @app.callback(Output(\"div-animation-interval{}\".format(indice), \"children\"),\n",
    "                  [Input(\"submit-button-animation-continue{}\".format(indice), \"n_clicks\")])\n",
    "    def make_animation(n_cliks,  indice=indice):\n",
    "        \"\"\"Make the animation run\"\"\"\n",
    "        \n",
    "        global GLOBAL_VARS\n",
    "\n",
    "        if n_cliks >= 1:\n",
    "            \n",
    "            if GLOBAL_VARS['NB_BOXES_N{}'.format(indice)] == len(figures_prefaites[indice].data) - 1:\n",
    "                GLOBAL_VARS['NB_BOXES_N{}'.format(indice)] = 0\n",
    "            \n",
    "            GLOBAL_VARS['ANIMATION_STATE_N{}'.format(indice)] = GLOBAL_VARS['ANIMATION_STATE_ENUM'][\"ANIMATE\"]\n",
    "            return dcc.Interval(\n",
    "                id = 'interval-component{}'.format(indice),\n",
    "                interval = 1 * 900, # in milliseconds\n",
    "                n_intervals = GLOBAL_VARS['NB_BOXES_N{}'.format(indice)],\n",
    "                max_intervals = len(figures_prefaites[indice].data) - 1\n",
    "            )\n",
    "        else:\n",
    "            return dcc.Interval(\n",
    "                id = 'interval-component{}'.format(indice),\n",
    "                interval = 1 * 900, # in milliseconds\n",
    "                n_intervals = 0,\n",
    "                max_intervals = 0\n",
    "            )\n",
    "\n",
    "    functions.append(make_animation)\n",
    "\n",
    "\n",
    "app.run_server(host='127.0.0.1', port=8880, debug=True)"
   ]
  },
  {
   "cell_type": "code",
   "execution_count": null,
   "metadata": {},
   "outputs": [],
   "source": []
  },
  {
   "cell_type": "code",
   "execution_count": null,
   "metadata": {},
   "outputs": [],
   "source": []
  }
 ],
 "metadata": {
  "kernelspec": {
   "display_name": "Python 3 (ipykernel)",
   "language": "python",
   "name": "python3"
  },
  "language_info": {
   "codemirror_mode": {
    "name": "ipython",
    "version": 3
   },
   "file_extension": ".py",
   "mimetype": "text/x-python",
   "name": "python",
   "nbconvert_exporter": "python",
   "pygments_lexer": "ipython3",
   "version": "3.10.12"
  }
 },
 "nbformat": 4,
 "nbformat_minor": 2
}
